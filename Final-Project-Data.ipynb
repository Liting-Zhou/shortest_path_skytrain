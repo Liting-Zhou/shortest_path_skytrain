{
 "cells": [
  {
   "cell_type": "markdown",
   "id": "a50c0dcb",
   "metadata": {},
   "source": [
    "## 1. Data collection and preprocessing"
   ]
  },
  {
   "cell_type": "markdown",
   "id": "85870d22",
   "metadata": {},
   "source": [
    "### 1.1 Download OpenStreetMap data for BC and keep transport & railways layers"
   ]
  },
  {
   "cell_type": "markdown",
   "id": "1cb8b5a2",
   "metadata": {},
   "source": [
    "### 1.2 Filter data and export as new files"
   ]
  },
  {
   "cell_type": "code",
   "execution_count": 2,
   "id": "e6f9ffc9",
   "metadata": {},
   "outputs": [],
   "source": [
    "import geopandas as gpd\n",
    "import matplotlib.pyplot as plt"
   ]
  },
  {
   "cell_type": "code",
   "execution_count": 16,
   "id": "5451eaa6",
   "metadata": {},
   "outputs": [],
   "source": [
    "point_path = \"british-columbia-latest-free/gis_osm_transport_free_1.shp\" # Change me\n",
    "gdf_point = gpd.read_file(point_path)\n",
    "gdf_point[gdf_point['fclass']=='railway_station'].to_file(\"data/station.shp\", encoding=\"UTF-8\")"
   ]
  },
  {
   "cell_type": "code",
   "execution_count": 27,
   "id": "0008bc50",
   "metadata": {},
   "outputs": [],
   "source": [
    "line_path = \"british-columbia-latest-free/gis_osm_railways_free_1.shp\" # Change me\n",
    "gdf_line = gpd.read_file(line_path)\n",
    "gdf_line[(gdf_line['fclass']=='subway') & ((gdf_line['name']=='SkyTrain Expo Line')|(gdf_line['name']=='SkyTrain Millennium Line')|(gdf_line['name']=='SkyTrain Canada Line'))].to_file(\"data/line.shp\", encoding=\"UTF-8\")"
   ]
  },
  {
   "cell_type": "markdown",
   "id": "c89d2362",
   "metadata": {},
   "source": [
    "### 1.3 Add CSV as layers in mapping software (e.g. QGIS) and clean more thoroughly"
   ]
  },
  {
   "cell_type": "markdown",
   "id": "f17b685d",
   "metadata": {},
   "source": [
    "1.3.1 remove non-SkyTrain stations by hand\n",
    "\n",
    "1.3.2 use a plugin called \"Join multiple lines\" to connect lines (Canada Line bridge)\n",
    "\n",
    "1.3.3 run Dissolve in Processing Toolbox to merge lines by their names\n",
    "\n",
    "1.3.4 use Edit Geometry to delete part undesired (keep single track)\n",
    "##### export skytrain-stations.shp & skytrain-lines.shp\n",
    "1.3.5 convert to projected CRS (EPSG:4326 -> 3857)\n",
    "##### export stations_3857.shp & lines_3857.shp\n",
    "1.3.6 snap stations to lines, and create perpendicular lines from snapped stations\n",
    "##### export snapped_stations_3857.shp\n",
    "1.3.7 use perpendicular lines to split the lines between 2 stations\n",
    "##### export perp_lines_3857.shp & lines_split_3857.shp"
   ]
  },
  {
   "cell_type": "markdown",
   "id": "960afa29",
   "metadata": {},
   "source": [
    "## 2. Graph construction\n",
    "##### use snapped_stations_3857.shp & lines_split_3857.shp\n",
    "### 2.1 Connect station information to line segments\n",
    "2.1.1 create 50m buffer from snapped_stations_3857\n",
    "\n",
    "2.1.2 create a new field \"line_id\" to lines_split_3857\n",
    "\n",
    "2.1.3 calculate length of each line segment by adding geometry attributes (use Ellipsoidal)\n",
    "\n",
    "2.1.4 join attributes of station buffer by location (intersection) to lines\n",
    "##### export lines_join_station.shp"
   ]
  },
  {
   "cell_type": "code",
   "execution_count": null,
   "id": "91b1315c",
   "metadata": {},
   "outputs": [],
   "source": []
  }
 ],
 "metadata": {
  "kernelspec": {
   "display_name": "Python 3 (ipykernel)",
   "language": "python",
   "name": "python3"
  },
  "language_info": {
   "codemirror_mode": {
    "name": "ipython",
    "version": 3
   },
   "file_extension": ".py",
   "mimetype": "text/x-python",
   "name": "python",
   "nbconvert_exporter": "python",
   "pygments_lexer": "ipython3",
   "version": "3.11.4"
  }
 },
 "nbformat": 4,
 "nbformat_minor": 5
}
